{
 "cells": [
  {
   "cell_type": "markdown",
   "metadata": {},
   "source": [
    "# SQLModel\n",
    "\n",
    "SQLModel is a library for interacting with SQL databases in Python. It is designed to be intuitive and easy to use. It is powered by [Pydantic](https://docs.pydantic.dev/latest/) and [SQLAlchemy](https://sqlalchemy.org/).\n",
    "\n",
    "It combines SQLAlchemy and Pydantic and tries to simplify the code you write as much as possible, allowing you to reduce the code duplication to a minimum, but while getting the best developer experience possible."
   ]
  },
  {
   "cell_type": "code",
   "execution_count": 1,
   "metadata": {},
   "outputs": [],
   "source": [
    "from typing import Optional\n",
    "\n",
    "from sqlmodel import Field, SQLModel\n",
    "\n",
    "class Hero(SQLModel, table=True):\n",
    "    id: int | None = Field(default=None, primary_key=True)\n",
    "    name: str\n",
    "    secret_name: str\n",
    "    age: int | None"
   ]
  },
  {
   "cell_type": "markdown",
   "metadata": {},
   "source": [
    "The `id` field can be `None` in Python code before interacting with the database, but can not be `null` in the database. Once we call `session.commit()`, the the `id` will be assigned in the database and the objects in our code will **expire**. Expiration is a protection from holding in memory outdated values. Next time we request any field, for example `.name`, SQLAlchemy will make sure to contact the database and **get the most recent version if the data** (updating that field name in our object and then making it available for the rest of the Python expression.)."
   ]
  },
  {
   "cell_type": "code",
   "execution_count": 2,
   "metadata": {},
   "outputs": [],
   "source": [
    "hero_1 = Hero(name=\"Deadpond\", secret_name=\"Dive Wilson\")\n",
    "hero_2 = Hero(name=\"Spider\", secret_name=\"Peter Parkour\", age=18)\n",
    "hero_3 = Hero(name=\"Rusty\", secret_name=\"Tommy Sharp\", age=48)"
   ]
  },
  {
   "cell_type": "markdown",
   "metadata": {},
   "source": [
    "Writing to the database"
   ]
  },
  {
   "cell_type": "code",
   "execution_count": 3,
   "metadata": {},
   "outputs": [
    {
     "name": "stdout",
     "output_type": "stream",
     "text": [
      "SQLAlchemy has no way to recognize an attempt to query an object if I don't access a filed: \n",
      "However, once I query any field, it will implicitly refresh data: 1 ||| age=None secret_name='Dive Wilson' name='Deadpond' id=1\n",
      "The alternative is to refresh the object explicitly: age=18 name='Spider' secret_name='Peter Parkour' id=2\n"
     ]
    }
   ],
   "source": [
    "import os\n",
    "from sqlmodel import create_engine, Session\n",
    "\n",
    "engine = create_engine(\"sqlite:///:memory:\")\n",
    "SQLModel.metadata.create_all(engine)\n",
    "\n",
    "with Session(engine) as session:\n",
    "    session.add(hero_1)\n",
    "    session.add(hero_2)\n",
    "    session.add(hero_3)\n",
    "    session.commit()\n",
    "\n",
    "    print(f\"SQLAlchemy has no way to recognize an attempt to query an object if I don't access a filed: {hero_1}\")\n",
    "    print(f\"However, once I query any field, it will implicitly refresh data: {hero_1.id} ||| {hero_1}\")\n",
    "\n",
    "    session.refresh(hero_2)\n",
    "\n",
    "print(f\"The alternative is to refresh the object explicitly: {hero_2}\")  # Yes, it is fine to access the object after the session ends."
   ]
  },
  {
   "cell_type": "markdown",
   "metadata": {},
   "source": [
    " # Upsert\n",
    "\n",
    "Typical upsert operation:\n",
    "\n",
    "```python\n",
    "def upsert_device(device_uuid: str, device: Device) -> Device:\n",
    "    with Session(engine) as session:\n",
    "        # check if the device exists\n",
    "        statement = select(Device).where(Device.uuid == device_uuid)\n",
    "        result = session.exec(statement).first()\n",
    "\n",
    "        # if not, create it\n",
    "        if result is None:\n",
    "            result = device\n",
    "\n",
    "        # sync the data\n",
    "        for key, value in device.dict(exclude_unset=True).items():\n",
    "            setattr(result, key, value)\n",
    "\n",
    "        # persist the data to the database\n",
    "        session.add(result)\n",
    "        session.commit()\n",
    "        session.refresh(result)\n",
    "\n",
    "        return result\n",
    "```"
   ]
  },
  {
   "cell_type": "markdown",
   "metadata": {},
   "source": [
    "# Read Data"
   ]
  },
  {
   "cell_type": "markdown",
   "metadata": {},
   "source": [
    "Reading from the database. `select` returns a specific type of an object. It can be used with any number of `where` methods as well as some others methods."
   ]
  },
  {
   "cell_type": "code",
   "execution_count": 19,
   "metadata": {},
   "outputs": [
    {
     "name": "stdout",
     "output_type": "stream",
     "text": [
      "iterator object: <sqlalchemy.engine.result.ScalarResult object at 0x113f25540>\n",
      "Hero: Spider, age: 18\n",
      "All objects: [Hero(age=18, name='Spider', secret_name='Peter Parkour', id=2)]\n"
     ]
    }
   ],
   "source": [
    "from sqlmodel import select, or_\n",
    "\n",
    "with Session(engine) as session:\n",
    "    statement = select(Hero).where(Hero.age).where(Hero.secret_name.like(\"%Peter%\"))\n",
    "    # Multiple where clauses are also fine:\n",
    "    # statement = select(Hero).where(Hero.age > 20 Hero.age < 50)\n",
    "    # OR also supported:\n",
    "    # from sqlmodel import select, or_\n",
    "    # statement = select(Hero).where(or_(Hero.age <= 35, Hero.age > 90))\n",
    "    heros = session.exec(statement)\n",
    "    \n",
    "    print(\"iterator object:\", heros)\n",
    "    for hero in heros:\n",
    "        print(f\"Hero: {hero.name}, age: {hero.age}\")\n",
    "\n",
    "    print(f\"All objects: {session.exec(statement).all()}\")\n",
    "    "
   ]
  },
  {
   "cell_type": "markdown",
   "metadata": {},
   "source": [
    "Sometimes autocomplete can complain about `Optional` attributes. It can be fixed with `from sqlmodel import col`:\n",
    "\n",
    "```python\n",
    "    with Session(engine) as session:\n",
    "        statement = select(Hero).where(col(Hero.age) >= 35)\n",
    "        results = session.exec(statement)\n",
    "        for hero in results:\n",
    "            print(hero)\n",
    "```"
   ]
  },
  {
   "cell_type": "markdown",
   "metadata": {},
   "source": []
  }
 ],
 "metadata": {
  "kernelspec": {
   "display_name": "venv",
   "language": "python",
   "name": "python3"
  },
  "language_info": {
   "codemirror_mode": {
    "name": "ipython",
    "version": 3
   },
   "file_extension": ".py",
   "mimetype": "text/x-python",
   "name": "python",
   "nbconvert_exporter": "python",
   "pygments_lexer": "ipython3",
   "version": "3.11.8"
  }
 },
 "nbformat": 4,
 "nbformat_minor": 2
}
