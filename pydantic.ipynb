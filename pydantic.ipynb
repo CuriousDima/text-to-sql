{
 "cells": [
  {
   "cell_type": "markdown",
   "metadata": {},
   "source": [
    "# Pydantic\n",
    "\n",
    "Pydantic is a data validation library. You write a data definition with pure Python, Pydantic enforces the types.\n",
    "\n",
    "|                 | **pydantic** | **dataclass** |\n",
    "|-----------------|--------------|---------------|\n",
    "|      Type Hints |       ✅      |       ✅       |\n",
    "| Data Validation |       ✅      |       ❌       |\n",
    "|   Serialization |       ✅      |       ⚠️       |\n",
    "|        Built-In |       ❌      |       ✅       |\n",
    "\n",
    "Use cases for Pydantic:\n",
    "- Complex data models\n",
    "- Need to do a lot of serde\n",
    "- Need to work a lot with external APIs\n",
    "\n",
    "Dataclasses with work for everything else."
   ]
  },
  {
   "cell_type": "markdown",
   "metadata": {},
   "source": []
  },
  {
   "cell_type": "code",
   "execution_count": 1,
   "metadata": {},
   "outputs": [],
   "source": [
    "from datetime import datetime\n",
    "from typing import List, Tuple\n",
    "\n",
    "from pydantic import BaseModel, Field, computed_field\n",
    "import uuid\n",
    "\n",
    "class Delivery(BaseModel):\n",
    "    id: str = Field(default_factory=lambda: uuid.uuid4().hex)\n",
    "    timestamp: datetime\n",
    "    dimensions: Tuple[int, int, int]\n",
    "\n",
    "    @computed_field\n",
    "    @property\n",
    "    def volume(self) -> int:\n",
    "        return self.dimensions[0] * self.dimensions[1] * self.dimensions[2]"
   ]
  },
  {
   "cell_type": "markdown",
   "metadata": {},
   "source": [
    "`Field` is a very rich class. It helps to build a lot of various validators, discriminators, and control immutability. `Field` can be used with regular dataclasses, but it is not recommended.  \n",
    "See [Concepts -> Fields](https://docs.pydantic.dev/latest/concepts/fields/) for details."
   ]
  },
  {
   "cell_type": "code",
   "execution_count": 2,
   "metadata": {},
   "outputs": [
    {
     "name": "stdout",
     "output_type": "stream",
     "text": [
      "id='38f31e7c9dc14f659e33ed44aa494ca8' timestamp=datetime.datetime(2020, 1, 2, 3, 4, 5, tzinfo=TzInfo(UTC)) dimensions=(10, 20, 30) volume=6000\n",
      "{'id': '38f31e7c9dc14f659e33ed44aa494ca8', 'timestamp': datetime.datetime(2020, 1, 2, 3, 4, 5, tzinfo=TzInfo(UTC)), 'dimensions': (10, 20, 30), 'volume': 6000}\n"
     ]
    }
   ],
   "source": [
    "valid_delivery = Delivery(\n",
    "    timestamp=\"2020-01-02T03:04:05Z\",\n",
    "    dimensions=[10, 20, 30]\n",
    ")\n",
    "print(valid_delivery)\n",
    "print(valid_delivery.model_dump())"
   ]
  },
  {
   "cell_type": "code",
   "execution_count": 3,
   "metadata": {},
   "outputs": [
    {
     "ename": "ValidationError",
     "evalue": "1 validation error for Delivery\ntimestamp\n  Input should be a valid datetime or date, invalid character in year [type=datetime_from_date_parsing, input_value='July 4th, 1776', input_type=str]\n    For further information visit https://errors.pydantic.dev/2.6/v/datetime_from_date_parsing",
     "output_type": "error",
     "traceback": [
      "\u001b[0;31m---------------------------------------------------------------------------\u001b[0m",
      "\u001b[0;31mValidationError\u001b[0m                           Traceback (most recent call last)",
      "Cell \u001b[0;32mIn[3], line 1\u001b[0m\n\u001b[0;32m----> 1\u001b[0m invalid_delivery \u001b[38;5;241m=\u001b[39m \u001b[43mDelivery\u001b[49m\u001b[43m(\u001b[49m\n\u001b[1;32m      2\u001b[0m \u001b[43m    \u001b[49m\u001b[43mtimestamp\u001b[49m\u001b[38;5;241;43m=\u001b[39;49m\u001b[38;5;124;43m\"\u001b[39;49m\u001b[38;5;124;43mJuly 4th, 1776\u001b[39;49m\u001b[38;5;124;43m\"\u001b[39;49m\u001b[43m,\u001b[49m\n\u001b[1;32m      3\u001b[0m \u001b[43m    \u001b[49m\u001b[43mdimensions\u001b[49m\u001b[38;5;241;43m=\u001b[39;49m\u001b[43m[\u001b[49m\u001b[38;5;241;43m10\u001b[39;49m\u001b[43m,\u001b[49m\u001b[43m \u001b[49m\u001b[38;5;241;43m20\u001b[39;49m\u001b[43m,\u001b[49m\u001b[43m \u001b[49m\u001b[38;5;241;43m30\u001b[39;49m\u001b[43m]\u001b[49m\n\u001b[1;32m      4\u001b[0m \u001b[43m)\u001b[49m\n",
      "File \u001b[0;32m~/Projects/text-to-sql/venv/lib/python3.11/site-packages/pydantic/main.py:171\u001b[0m, in \u001b[0;36mBaseModel.__init__\u001b[0;34m(self, **data)\u001b[0m\n\u001b[1;32m    169\u001b[0m \u001b[38;5;66;03m# `__tracebackhide__` tells pytest and some other tools to omit this function from tracebacks\u001b[39;00m\n\u001b[1;32m    170\u001b[0m __tracebackhide__ \u001b[38;5;241m=\u001b[39m \u001b[38;5;28;01mTrue\u001b[39;00m\n\u001b[0;32m--> 171\u001b[0m \u001b[38;5;28;43mself\u001b[39;49m\u001b[38;5;241;43m.\u001b[39;49m\u001b[43m__pydantic_validator__\u001b[49m\u001b[38;5;241;43m.\u001b[39;49m\u001b[43mvalidate_python\u001b[49m\u001b[43m(\u001b[49m\u001b[43mdata\u001b[49m\u001b[43m,\u001b[49m\u001b[43m \u001b[49m\u001b[43mself_instance\u001b[49m\u001b[38;5;241;43m=\u001b[39;49m\u001b[38;5;28;43mself\u001b[39;49m\u001b[43m)\u001b[49m\n",
      "\u001b[0;31mValidationError\u001b[0m: 1 validation error for Delivery\ntimestamp\n  Input should be a valid datetime or date, invalid character in year [type=datetime_from_date_parsing, input_value='July 4th, 1776', input_type=str]\n    For further information visit https://errors.pydantic.dev/2.6/v/datetime_from_date_parsing"
     ]
    }
   ],
   "source": [
    "invalid_delivery = Delivery(\n",
    "    timestamp=\"July 4th, 1776\",\n",
    "    dimensions=[10, 20, 30]\n",
    ")"
   ]
  },
  {
   "cell_type": "markdown",
   "metadata": {},
   "source": [
    "# Custom Validation\n",
    "\n",
    "If you want to implement an extra validator for a field, Pydantic provides a `validator` decorator for that."
   ]
  },
  {
   "cell_type": "code",
   "execution_count": null,
   "metadata": {},
   "outputs": [],
   "source": [
    "from pydantic import field_validator\n",
    "\n",
    "class User(BaseModel):\n",
    "    username: str\n",
    "    account_id: int\n",
    "    delivery: Delivery\n",
    "\n",
    "    @field_validator(\"account_id\")\n",
    "    @classmethod\n",
    "    def validate_account_id(cls, value):\n",
    "        if value < 0:\n",
    "            raise ValueError(\"account_id has to be a positive integer\")\n",
    "        return value\n",
    "\n",
    "valid_user = User(\n",
    "    username=\"johndoe\",\n",
    "    account_id=123,\n",
    "    delivery=valid_delivery\n",
    ")"
   ]
  },
  {
   "cell_type": "code",
   "execution_count": null,
   "metadata": {},
   "outputs": [
    {
     "ename": "ValidationError",
     "evalue": "1 validation error for User\naccount_id\n  Value error, account_id has to be a positive integer [type=value_error, input_value=-123, input_type=int]\n    For further information visit https://errors.pydantic.dev/2.6/v/value_error",
     "output_type": "error",
     "traceback": [
      "\u001b[0;31m---------------------------------------------------------------------------\u001b[0m",
      "\u001b[0;31mValidationError\u001b[0m                           Traceback (most recent call last)",
      "Cell \u001b[0;32mIn[55], line 1\u001b[0m\n\u001b[0;32m----> 1\u001b[0m invalid_user \u001b[38;5;241m=\u001b[39m \u001b[43mUser\u001b[49m\u001b[43m(\u001b[49m\n\u001b[1;32m      2\u001b[0m \u001b[43m    \u001b[49m\u001b[43musername\u001b[49m\u001b[38;5;241;43m=\u001b[39;49m\u001b[38;5;124;43m\"\u001b[39;49m\u001b[38;5;124;43mjohndoe\u001b[39;49m\u001b[38;5;124;43m\"\u001b[39;49m\u001b[43m,\u001b[49m\n\u001b[1;32m      3\u001b[0m \u001b[43m    \u001b[49m\u001b[43maccount_id\u001b[49m\u001b[38;5;241;43m=\u001b[39;49m\u001b[38;5;241;43m-\u001b[39;49m\u001b[38;5;241;43m123\u001b[39;49m\u001b[43m,\u001b[49m\n\u001b[1;32m      4\u001b[0m \u001b[43m    \u001b[49m\u001b[43mdelivery\u001b[49m\u001b[38;5;241;43m=\u001b[39;49m\u001b[43mvalid_delivery\u001b[49m\n\u001b[1;32m      5\u001b[0m \u001b[43m)\u001b[49m\n",
      "File \u001b[0;32m~/Projects/text-to-sql/venv/lib/python3.11/site-packages/pydantic/main.py:171\u001b[0m, in \u001b[0;36mBaseModel.__init__\u001b[0;34m(self, **data)\u001b[0m\n\u001b[1;32m    169\u001b[0m \u001b[38;5;66;03m# `__tracebackhide__` tells pytest and some other tools to omit this function from tracebacks\u001b[39;00m\n\u001b[1;32m    170\u001b[0m __tracebackhide__ \u001b[38;5;241m=\u001b[39m \u001b[38;5;28;01mTrue\u001b[39;00m\n\u001b[0;32m--> 171\u001b[0m \u001b[38;5;28;43mself\u001b[39;49m\u001b[38;5;241;43m.\u001b[39;49m\u001b[43m__pydantic_validator__\u001b[49m\u001b[38;5;241;43m.\u001b[39;49m\u001b[43mvalidate_python\u001b[49m\u001b[43m(\u001b[49m\u001b[43mdata\u001b[49m\u001b[43m,\u001b[49m\u001b[43m \u001b[49m\u001b[43mself_instance\u001b[49m\u001b[38;5;241;43m=\u001b[39;49m\u001b[38;5;28;43mself\u001b[39;49m\u001b[43m)\u001b[49m\n",
      "\u001b[0;31mValidationError\u001b[0m: 1 validation error for User\naccount_id\n  Value error, account_id has to be a positive integer [type=value_error, input_value=-123, input_type=int]\n    For further information visit https://errors.pydantic.dev/2.6/v/value_error"
     ]
    }
   ],
   "source": [
    "invalid_user = User(\n",
    "    username=\"johndoe\",\n",
    "    account_id=-123,\n",
    "    delivery=valid_delivery\n",
    ")"
   ]
  },
  {
   "cell_type": "markdown",
   "metadata": {},
   "source": [
    "# JSON Serialization\n",
    "\n",
    "Pydantic provides a built-in support for JSON serde."
   ]
  },
  {
   "cell_type": "code",
   "execution_count": null,
   "metadata": {},
   "outputs": [
    {
     "name": "stdout",
     "output_type": "stream",
     "text": [
      "{\"username\":\"johndoe\",\"account_id\":123,\"delivery\":{\"id\":\"034743c53b734a73bdc5d91621774817\",\"timestamp\":\"2020-01-02T03:04:05Z\",\"dimensions\":[10,20,30],\"volume\":6000}}\n",
      "{'username': 'johndoe', 'account_id': 123, 'delivery': {'id': '034743c53b734a73bdc5d91621774817', 'timestamp': datetime.datetime(2020, 1, 2, 3, 4, 5, tzinfo=TzInfo(UTC)), 'dimensions': (10, 20, 30), 'volume': 6000}}\n"
     ]
    }
   ],
   "source": [
    "user_json_obj = valid_user.json()\n",
    "print(user_json_obj)\n",
    "\n",
    "user_dict_obj = valid_user.dict()\n",
    "print(user_dict_obj)"
   ]
  },
  {
   "cell_type": "code",
   "execution_count": null,
   "metadata": {},
   "outputs": [
    {
     "name": "stdout",
     "output_type": "stream",
     "text": [
      "username='johndoe' account_id=123 delivery=Delivery(id='034743c53b734a73bdc5d91621774817', timestamp=datetime.datetime(2020, 1, 2, 3, 4, 5, tzinfo=TzInfo(UTC)), dimensions=(10, 20, 30), volume=6000)\n"
     ]
    }
   ],
   "source": [
    "user = User.parse_raw(user_json_obj)\n",
    "print(user)"
   ]
  },
  {
   "cell_type": "code",
   "execution_count": null,
   "metadata": {},
   "outputs": [
    {
     "name": "stdout",
     "output_type": "stream",
     "text": [
      "{'$defs': {'Delivery': {'properties': {'id': {'title': 'Id', 'type': 'string'}, 'timestamp': {'format': 'date-time', 'title': 'Timestamp', 'type': 'string'}, 'dimensions': {'maxItems': 3, 'minItems': 3, 'prefixItems': [{'type': 'integer'}, {'type': 'integer'}, {'type': 'integer'}], 'title': 'Dimensions', 'type': 'array'}}, 'required': ['timestamp', 'dimensions'], 'title': 'Delivery', 'type': 'object'}}, 'properties': {'username': {'title': 'Username', 'type': 'string'}, 'account_id': {'title': 'Account Id', 'type': 'integer'}, 'delivery': {'$ref': '#/$defs/Delivery'}}, 'required': ['username', 'account_id', 'delivery'], 'title': 'User', 'type': 'object'}\n"
     ]
    }
   ],
   "source": [
    "print(user.model_json_schema())"
   ]
  },
  {
   "cell_type": "markdown",
   "metadata": {},
   "source": [
    "# Pydanttic Settings\n",
    "\n",
    "Settings management using Pydantic. It will look for a `.env` file if there is no environment variable to use."
   ]
  },
  {
   "cell_type": "code",
   "execution_count": 1,
   "metadata": {},
   "outputs": [
    {
     "name": "stdout",
     "output_type": "stream",
     "text": [
      "{'auth_key': 'auth_key!', 'api_key': 'api_key!!!'}\n"
     ]
    }
   ],
   "source": [
    "import os\n",
    "from pydantic import Field\n",
    "from pydantic_settings import BaseSettings, SettingsConfigDict\n",
    "\n",
    "os.environ['AUTH_KEY'] = 'auth_key!'\n",
    "os.environ['API_KEY'] = 'api_key!!!'\n",
    "\n",
    "class Settings(BaseSettings):\n",
    "    # extra=\"allow\" allows for extra fields in the .env file\n",
    "    model_config = SettingsConfigDict(env_file='.env', env_file_encoding='utf-8')  # if you want to use .env file\n",
    "\n",
    "    auth_key: str = Field(alias='AUTH_KEY')  # alias is case-insensitive\n",
    "    api_key: str = Field()  # no alias needed\n",
    "\n",
    "settings = Settings()\n",
    "print(settings.model_dump())"
   ]
  },
  {
   "cell_type": "code",
   "execution_count": null,
   "metadata": {},
   "outputs": [],
   "source": []
  }
 ],
 "metadata": {
  "kernelspec": {
   "display_name": "venv",
   "language": "python",
   "name": "python3"
  },
  "language_info": {
   "codemirror_mode": {
    "name": "ipython",
    "version": 3
   },
   "file_extension": ".py",
   "mimetype": "text/x-python",
   "name": "python",
   "nbconvert_exporter": "python",
   "pygments_lexer": "ipython3",
   "version": "3.11.7"
  }
 },
 "nbformat": 4,
 "nbformat_minor": 2
}
